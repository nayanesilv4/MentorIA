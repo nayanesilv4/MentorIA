{
  "nbformat": 4,
  "nbformat_minor": 0,
  "metadata": {
    "colab": {
      "provenance": [],
      "authorship_tag": "ABX9TyPS8Y/zQu1+gWMd0/hLzgJD",
      "include_colab_link": true
    },
    "kernelspec": {
      "name": "python3",
      "display_name": "Python 3"
    },
    "language_info": {
      "name": "python"
    }
  },
  "cells": [
    {
      "cell_type": "markdown",
      "metadata": {
        "id": "view-in-github",
        "colab_type": "text"
      },
      "source": [
        "<a href=\"https://colab.research.google.com/github/nayanesilv4/MentorIA/blob/main/MentorIA.ipynb\" target=\"_parent\"><img src=\"https://colab.research.google.com/assets/colab-badge.svg\" alt=\"Open In Colab\"/></a>"
      ]
    },
    {
      "cell_type": "code",
      "source": [
        "import os\n",
        "import google.generativeai as genai\n",
        "from google.colab import userdata\n",
        "import time"
      ],
      "metadata": {
        "id": "JvcX6-D94oJa"
      },
      "execution_count": null,
      "outputs": []
    },
    {
      "cell_type": "code",
      "source": [
        "SYSTEM_PROMPT = \"\"\"\n",
        "Você é MentorIA, um chatbot amigável, prestativo e encorajador, projetado para ajudar\n",
        "adolescentes e adultos que estão ingressando na universidade pela primeira vez no Brasil.\n",
        "Sua função é explicar termos acadêmicos de forma simples e clara e gerar orientações\n",
        "iniciais personalizadas para quem está começando.\n",
        "\n",
        "Características importantes:\n",
        "- Use linguagem acessível, evite jargões complexos (a menos que esteja explicando um!).\n",
        "- Seja paciente e compreensivo com as dúvidas de iniciantes.\n",
        "- Transmita confiança e encorajamento para a nova fase da vida universitária.\n",
        "- Mantenha o foco em adaptação, estudo, recursos universitários e dicas gerais para calouros.\n",
        "- NÃO forneça informações oficiais sobre matrícula, prazos específicos da universidade, questões financeiras, ou conselhos que exijam conhecimento oficial das regras de uma instituição específica (a menos que seja um exemplo genérico e claro). Se a pergunta for muito específica sobre \"como se matricular em X disciplina na universidade Y\", diga que a informação oficial deve ser buscada na secretaria ou coordenação do curso.\n",
        "- Responda de forma concisa, mas completa o suficiente para ser útil.\n",
        "- Seja sucinto, responda de forma clara, objetiva e empática.\n",
        "\n",
        "Sempre responda como o MentorIA, um guia experiente e acolhedor.\n",
        "\"\"\"\n",
        "try:\n",
        "    API_KEY = userdata.get('GOOGLE_API_KEY')\n",
        "    if not API_KEY:\n",
        "         raise ValueError(\"Chave GOOGLE_API_KEY não encontrada nos Secrets do Colab.\")\n",
        "\n",
        "    genai.configure(api_key=API_KEY)\n",
        "\n",
        "    model = genai.GenerativeModel(\n",
        "        'gemini-2.0-flash',\n",
        "         system_instruction=SYSTEM_PROMPT\n",
        "    )\n",
        "\n",
        "    test_response = model.generate_content(\"Olá, teste de configuração.\")\n",
        "    if not test_response or not test_response.text:\n",
        "         raise Exception(\"Modelo Gemini não respondeu corretamente ao teste.\")\n",
        "    ia_disponivel = True\n",
        "    print(\"IA configurada e pronta para usar!\")\n",
        "\n",
        "except Exception as e:\n",
        "    print(f\"ERRO: Problema ao configurar a IA. Detalhes: {e}\")\n",
        "    print(\"As funcionalidades que usam IA (Orientação e Termos) não estarão disponíveis.\")\n",
        "    ia_disponivel = False\n",
        "    model = None"
      ],
      "metadata": {
        "colab": {
          "base_uri": "https://localhost:8080/",
          "height": 34
        },
        "id": "LAmhfwry-KzT",
        "outputId": "aa37ec66-bd30-4e73-f353-7c6f202a3f85"
      },
      "execution_count": null,
      "outputs": [
        {
          "output_type": "stream",
          "name": "stdout",
          "text": [
            "IA configurada e pronta para usar!\n"
          ]
        }
      ]
    },
    {
      "cell_type": "code",
      "source": [
        "def pedir_para_ia(prompt):\n",
        "    if not ia_disponivel or not model:\n",
        "        return \"Desculpe, a funcionalidade de IA não está ativa no momento.\"\n",
        "\n",
        "    try:\n",
        "        response = model.generate_content(prompt)\n",
        "        if response and hasattr(response, 'text') and response.text:\n",
        "             return response.text\n",
        "        elif response and response.prompt_feedback:\n",
        "            if response.prompt_feedback.block_reason:\n",
        "                 return \"Desculpe, sua solicitação não pôde ser processada. Ela violou alguma política de conteúdo.\"\n",
        "            else:\n",
        "                 return \"Desculpe, não consegui gerar uma resposta para isso.\"\n",
        "        else:\n",
        "             return \"Desculpe, não consegui gerar uma resposta para isso.\"\n",
        "\n",
        "    except Exception as e:\n",
        "        print(f\"Erro ao chamar a IA: {e}\")\n",
        "        return \"Desculpe, ocorreu um erro ao processar sua solicitação com a IA.\""
      ],
      "metadata": {
        "id": "katjRyAY-pyT"
      },
      "execution_count": null,
      "outputs": []
    },
    {
      "cell_type": "code",
      "source": [
        "def mostrar_menu_principal():\n",
        "    print(\"\\n\" + \"=\" * 40)\n",
        "    print(\"Bem-vindo(a) ao MentorIA!\")\n",
        "    print(\"Sou seu assistente virtual para ajudar na sua jornada universitária.\")\n",
        "    if not ia_disponivel:\n",
        "         print(\"\\nAVISO: A IA não está funcionando. Algumas opções podem não estar disponíveis.\")\n",
        "    print(\"=\" * 40)\n",
        "\n",
        "    print(\"Escolha uma opção digitando o número correspondente:\")\n",
        "    print(\"1. Gerar Orientação Inicial\")\n",
        "    print(\"2. Explicar Termo Acadêmico\")\n",
        "    print(\"3. Sair\")\n",
        "    print(\"-\" * 40)"
      ],
      "metadata": {
        "id": "gWtcBudj-6Su"
      },
      "execution_count": null,
      "outputs": []
    },
    {
      "cell_type": "code",
      "source": [
        "def modo_orientacao():\n",
        "    print(\"\\n\" + \"*\" * 40)\n",
        "    print(\"  MODO: GERAR ORIENTAÇÃO INICIAL\")\n",
        "    print(\"*\" * 40)\n",
        "\n",
        "    if not ia_disponivel:\n",
        "         print(\"Este modo requer a funcionalidade de IA, que não está disponível.\")\n",
        "         time.sleep(2)\n",
        "         return\n",
        "\n",
        "    print(\"Vamos conversar um pouco para o MentorIA montar sua orientação inicial.\")\n",
        "    print(\"Digite 'menu' a qualquer momento para voltar ao Menu Principal.\")\n",
        "\n",
        "    curso = input(\"Qual curso você vai começar? \").strip()\n",
        "    expectativa = input(\"Qual sua maior expectativa ou preocupação ao iniciar a faculdade? \").strip()\n",
        "    conhece_campus = input(\"Você já conhece o campus ou sabe onde encontrar informações (biblioteca, RU, coordenação)? (sim/não) \").lower().strip()\n",
        "\n",
        "    print(\"\\n\" + \"-\" * 40)\n",
        "    print(\"MentorIA está pensando para gerar sua Orientação Inicial...\")\n",
        "    time.sleep(2)\n",
        "\n",
        "    orientation_prompt_initial = f\"\"\"\n",
        "    Gere uma orientação inicial para um estudante universitário de primeira viagem no Brasil, focando em:\n",
        "    - Boas-vindas e adaptação à vida universitária brasileira.\n",
        "    - Dicas relevantes para o curso: {curso if curso else 'não especificado'}.\n",
        "    - Como lidar com a preocupação/expectativa mencionada: {expectativa if expectativa else 'não especificado'}.\n",
        "    - Dicas sobre explorar o campus/recursos, considerando que ele(a) {'não ' if conhece_campus != 'sim' else ''}conhece bem o campus.\n",
        "    - Encorajamento geral e dicas para o sucesso nos primeiros semestres.\n",
        "\n",
        "    Formate a resposta com tópicos claros e linguagem acessível, no tom amigável do MentorIA. Seja o mais sucinto possivel\n",
        "    \"\"\"\n",
        "\n",
        "    orientacao_texto = pedir_para_ia(orientation_prompt_initial)\n",
        "    print(\"\\n\" + \"-\" * 40)\n",
        "    print(orientacao_texto)\n",
        "    print(\"-\" * 40)\n",
        "\n",
        "    while True:\n",
        "        print(\"\\n\" + \"*\" * 40)\n",
        "        proxima_interacao = input(\"Mais alguma dúvida sobre a vida universitária? (Digite sua pergunta) Ou quer voltar? (Digite 'menu'): \").strip()\n",
        "\n",
        "        if proxima_interacao.lower() == 'menu':\n",
        "            print(\"Saindo do modo Orientação...\")\n",
        "            time.sleep(1)\n",
        "            break\n",
        "        elif proxima_interacao:\n",
        "            print(\"\\nMentorIA está pensando na sua dúvida...\")\n",
        "            time.sleep(1)\n",
        "            follow_up_prompt = f\"\"\"\n",
        "            O usuário, um estudante universitário de primeira viagem, está no modo de orientação e tem a seguinte dúvida adicional sobre a vida universitária:\n",
        "            Pergunta: \"{proxima_interacao}\"\n",
        "            Por favor, responda a esta dúvida mantendo o contexto de orientação para calouros e o seu tom de MentorIA. Seja direto e útil.\n",
        "            \"\"\"\n",
        "            resposta_follow_up = pedir_para_ia(follow_up_prompt)\n",
        "            print(\"\\n\" + \"-\" * 40)\n",
        "            print(resposta_follow_up)\n",
        "            print(\"-\" * 40)\n",
        "        else:\n",
        "            print(\"Por favor, digite sua pergunta ou 'menu' para sair.\")"
      ],
      "metadata": {
        "id": "ng7_lZTl_NLz"
      },
      "execution_count": null,
      "outputs": []
    },
    {
      "cell_type": "code",
      "source": [
        "def modo_explicar_termo():\n",
        "    print(\"\\n\" + \"*\" * 40)\n",
        "    print(\"  MODO: EXPLICAR TERMO ACADÊMICO\")\n",
        "    print(\"*\" * 40)\n",
        "\n",
        "    if not ia_disponivel:\n",
        "         print(\"Este modo requer a funcionalidade de IA, que não está disponível.\")\n",
        "         time.sleep(2)\n",
        "         return\n",
        "\n",
        "    print(\"Digite o termo acadêmico que você gostaria de entender.\")\n",
        "    print(\"Digite 'menu' a qualquer momento para voltar ao Menu Principal.\")\n",
        "\n",
        "    while True:\n",
        "        termo_usuario = input(\"\\nDigite o termo (ou 'menu' para sair): \").strip()\n",
        "\n",
        "        if termo_usuario.lower() == 'menu':\n",
        "            print(\"Saindo do modo Explicar Termo...\")\n",
        "            time.sleep(1)\n",
        "            break\n",
        "\n",
        "        elif termo_usuario:\n",
        "            print(f\"\\nMentorIA está pensando na explicação para '{termo_usuario}'...\")\n",
        "            time.sleep(1)\n",
        "            term_prompt = f\"Explique o termo acadêmico '{termo_usuario}' para um estudante que está começando a universidade no Brasil. Use linguagem muito simples e direta, no tom amigável do MentorIA. Seja o mais sucinto possível\"\n",
        "\n",
        "            explicacao = pedir_para_ia(term_prompt)\n",
        "            print(\"\\n\" + \"-\" * 40)\n",
        "            print(f\"Explicação para '{termo_usuario}':\")\n",
        "            print(explicacao)\n",
        "            print(\"-\" * 40)\n",
        "        else:\n",
        "             print(\"Por favor, digite um termo para explicar ou 'menu' para sair.\")"
      ],
      "metadata": {
        "id": "As_rdzG6AJFy"
      },
      "execution_count": null,
      "outputs": []
    },
    {
      "cell_type": "code",
      "source": [
        "if __name__ == \"__main__\":\n",
        "    while True:\n",
        "        mostrar_menu_principal()\n",
        "\n",
        "        escolha = input(\"Sua escolha: \").strip()\n",
        "\n",
        "        if escolha == '1':\n",
        "            modo_orientacao()\n",
        "\n",
        "        elif escolha == '2':\n",
        "            modo_explicar_termo()\n",
        "\n",
        "        elif escolha == '3':\n",
        "\n",
        "            print(\"\\n\" + \"=\" * 40)\n",
        "            print(\"Obrigado por usar o MentorIA!\")\n",
        "            print(\"Lembre-se: A jornada universitária é desafiadora, mas incrível.\")\n",
        "            print(\"Não tenha medo de buscar conhecimento e apoio. Você é capaz!\")\n",
        "            print(\"Até a próxima!\")\n",
        "            print(\"=\" * 40)\n",
        "            break\n",
        "\n",
        "        else:\n",
        "            print(\"\\nOpção inválida. Por favor, digite 1, 2 ou 3.\")\n",
        "            time.sleep(1)"
      ],
      "metadata": {
        "id": "U4Cx9tFiAjfb"
      },
      "execution_count": null,
      "outputs": []
    }
  ]
}